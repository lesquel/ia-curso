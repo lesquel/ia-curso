{
 "cells": [
  {
   "cell_type": "code",
   "execution_count": 1,
   "id": "26f296c2-8c86-49fb-a386-f6351ecd494c",
   "metadata": {},
   "outputs": [
    {
     "data": {
      "text/plain": [
       "['Miquel', 'Less']"
      ]
     },
     "execution_count": 1,
     "metadata": {},
     "output_type": "execute_result"
    }
   ],
   "source": [
    "lista = [\"Miquel\", \"Less\"]\n",
    "lista"
   ]
  },
  {
   "cell_type": "code",
   "execution_count": 2,
   "id": "43c81973-a14e-4fff-ab5c-0e4a37f32c37",
   "metadata": {},
   "outputs": [],
   "source": [
    "lista.append(\"Melissa\")"
   ]
  },
  {
   "cell_type": "code",
   "execution_count": 3,
   "id": "6f25f0c9-1da2-47ef-bb7f-92388cb6a9c0",
   "metadata": {},
   "outputs": [
    {
     "data": {
      "text/plain": [
       "['Miquel', 'Less', 'Melissa']"
      ]
     },
     "execution_count": 3,
     "metadata": {},
     "output_type": "execute_result"
    }
   ],
   "source": [
    "lista"
   ]
  },
  {
   "cell_type": "code",
   "execution_count": 4,
   "id": "be3998c3-dfb0-4e02-9841-d75c7b7c6454",
   "metadata": {},
   "outputs": [
    {
     "data": {
      "text/plain": [
       "(1, 1, 2)"
      ]
     },
     "execution_count": 4,
     "metadata": {},
     "output_type": "execute_result"
    }
   ],
   "source": [
    "#tuplas \n",
    "(1, 1, 2, )"
   ]
  },
  {
   "cell_type": "code",
   "execution_count": 8,
   "id": "d022dd30-ae05-4e90-97bd-473922076e0f",
   "metadata": {},
   "outputs": [
    {
     "name": "stdout",
     "output_type": "stream",
     "text": [
      "{'a': 1, 'b': 2}\n",
      "2\n"
     ]
    }
   ],
   "source": [
    "#diccionario \n",
    "dict  = {\n",
    "    \"a\" : 1,\n",
    "    \"b\" : 2\n",
    "}\n",
    "print(dict)\n",
    "print(dict[\"b\"])"
   ]
  },
  {
   "cell_type": "code",
   "execution_count": null,
   "id": "974749ab-8bd5-4dc9-b702-5a14b2c80908",
   "metadata": {},
   "outputs": [],
   "source": []
  }
 ],
 "metadata": {
  "kernelspec": {
   "display_name": "Python 3 (ipykernel)",
   "language": "python",
   "name": "python3"
  },
  "language_info": {
   "codemirror_mode": {
    "name": "ipython",
    "version": 3
   },
   "file_extension": ".py",
   "mimetype": "text/x-python",
   "name": "python",
   "nbconvert_exporter": "python",
   "pygments_lexer": "ipython3",
   "version": "3.12.7"
  }
 },
 "nbformat": 4,
 "nbformat_minor": 5
}
