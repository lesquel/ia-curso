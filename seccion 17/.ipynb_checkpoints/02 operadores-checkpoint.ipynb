{
 "cells": [
  {
   "cell_type": "code",
   "execution_count": 9,
   "id": "429ed99b-f612-481b-a4be-0e77a81e3f12",
   "metadata": {
    "scrolled": true
   },
   "outputs": [],
   "source": [
    "x = 1\n",
    "b = \"hola\"\n",
    "c = True\n"
   ]
  },
  {
   "cell_type": "code",
   "execution_count": null,
   "id": "50299517-8866-45f7-9595-baf54b528a74",
   "metadata": {},
   "outputs": [],
   "source": []
  }
 ],
 "metadata": {
  "kernelspec": {
   "display_name": "Python 3 (ipykernel)",
   "language": "python",
   "name": "python3"
  },
  "language_info": {
   "codemirror_mode": {
    "name": "ipython",
    "version": 3
   },
   "file_extension": ".py",
   "mimetype": "text/x-python",
   "name": "python",
   "nbconvert_exporter": "python",
   "pygments_lexer": "ipython3",
   "version": "3.12.7"
  }
 },
 "nbformat": 4,
 "nbformat_minor": 5
}
