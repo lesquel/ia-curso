{
 "cells": [
  {
   "cell_type": "code",
   "execution_count": null,
   "id": "4b5b26bb-04ce-4fce-b578-75d0c8254d1a",
   "metadata": {},
   "outputs": [],
   "source": []
  }
 ],
 "metadata": {
  "kernelspec": {
   "display_name": "",
   "name": ""
  },
  "language_info": {
   "name": ""
  }
 },
 "nbformat": 4,
 "nbformat_minor": 5
}
